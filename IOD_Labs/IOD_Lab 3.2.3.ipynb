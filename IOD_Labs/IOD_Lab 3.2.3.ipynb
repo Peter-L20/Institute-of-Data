{
 "cells": [
  {
   "cell_type": "markdown",
   "metadata": {
    "colab_type": "text",
    "id": "pnuFCWMAORxw"
   },
   "source": [
    "<div>\n",
    "<img src=https://www.institutedata.com/wp-content/uploads/2019/10/iod_h_tp_primary_c.svg width=\"300\">\n",
    "</div>"
   ]
  },
  {
   "cell_type": "markdown",
   "metadata": {
    "colab_type": "text",
    "id": "iM_6Cey1ORx2"
   },
   "source": [
    "# Lab 3.2.3 \n",
    "## Statistical Inference"
   ]
  },
  {
   "cell_type": "markdown",
   "metadata": {
    "colab_type": "text",
    "id": "JuiuvgD1VXE2"
   },
   "source": [
    "### Data\n",
    "\n",
    "You can find the original data [here](https://archive.ics.uci.edu/ml/machine-learning-databases/housing/housing.data).\n",
    "\n",
    "Data dictionary is available [here](https://www.cs.toronto.edu/~delve/data/boston/bostonDetail.html).\n",
    "\n",
    "This dataset contains information collected by the U.S Census Service concerning housing in the area of Boston Mass. It was obtained from the StatLib archive (http://lib.stat.cmu.edu/datasets/boston), and has been used extensively throughout the literature to benchmark algorithms. However, these comparisons were primarily done outside of Delve and are thus somewhat suspect. The dataset is small in size with only 506 cases.\n",
    "\n",
    "The data was originally published by Harrison, D. and Rubinfeld, D.L. Hedonic prices and the demand for clean air', J. Environ. Economics & Management, vol.5, 81-102, 1978.\n",
    "\n",
    "Dataset Naming\n",
    "\n",
    "The name for this dataset is simply boston. It has two prototasks: nox, in which the nitrous oxide level is to be predicted; and price, in which the median value of a home is to be predicted\n",
    "\n",
    "Miscellaneous Details\n",
    "\n",
    "-Origin\n",
    "The origin of the boston housing data is Natural.\n",
    "\n",
    "-Usage\n",
    "This dataset may be used for Assessment.\n",
    "\n",
    "-Number of Cases\n",
    "The dataset contains a total of 506 cases.\n",
    "\n",
    "-Order\n",
    "The order of the cases is mysterious.\n",
    "\n",
    "-Variables\n",
    "\n",
    "There are 14 attributes in each case of the dataset. They are:\n",
    "\n",
    "    CRIM - per capita crime rate by town\n",
    "    ZN - proportion of residential land zoned for lots over 25,000 sq.ft.\n",
    "    INDUS - proportion of non-retail business acres per town.\n",
    "    CHAS - Charles River dummy variable (1 if tract bounds river; 0 otherwise)\n",
    "    NOX - nitric oxides concentration (parts per 10 million)\n",
    "    RM - average number of rooms per dwelling\n",
    "    AGE - proportion of owner-occupied units built prior to 1940\n",
    "    DIS - weighted distances to five Boston employment centres\n",
    "    RAD - index of accessibility to radial highways\n",
    "    TAX - full-value property-tax rate per 10000\n",
    "    PTRATIO - pupil-teacher ratio by town\n",
    "    B - 1000(Bk - 0.63)^2 where Bk is the proportion of blacks by town\n",
    "    LSTAT - % lower status of the population\n",
    "    MEDV - Median value of owner-occupied homes in 1000"
   ]
  },
  {
   "cell_type": "markdown",
   "metadata": {
    "colab_type": "text",
    "id": "DAMd08TPVXE3"
   },
   "source": [
    "### Libraries"
   ]
  },
  {
   "cell_type": "code",
   "execution_count": 27,
   "metadata": {
    "colab": {},
    "colab_type": "code",
    "id": "_WPWzZ3kVXE4"
   },
   "outputs": [],
   "source": [
    "import pandas as pd\n",
    "import numpy as np\n",
    "import math\n",
    "\n",
    "from scipy import stats\n",
    "from matplotlib import pyplot as plt\n",
    "\n",
    "import seaborn as sns\n",
    "sns.set(rc={'figure.figsize': (15, 10)})\n",
    "\n",
    "import pandas as pd\n",
    "pd.set_option(\"display.max_rows\", 120)\n",
    "pd.set_option(\"display.max_columns\", 120)\n",
    "\n",
    "%matplotlib inline"
   ]
  },
  {
   "cell_type": "code",
   "execution_count": 29,
   "metadata": {
    "colab": {},
    "colab_type": "code",
    "id": "vU5VWEOWVXE8"
   },
   "outputs": [
    {
     "data": {
      "text/html": [
       "<div>\n",
       "<style scoped>\n",
       "    .dataframe tbody tr th:only-of-type {\n",
       "        vertical-align: middle;\n",
       "    }\n",
       "\n",
       "    .dataframe tbody tr th {\n",
       "        vertical-align: top;\n",
       "    }\n",
       "\n",
       "    .dataframe thead th {\n",
       "        text-align: right;\n",
       "    }\n",
       "</style>\n",
       "<table border=\"1\" class=\"dataframe\">\n",
       "  <thead>\n",
       "    <tr style=\"text-align: right;\">\n",
       "      <th></th>\n",
       "      <th>CRIM</th>\n",
       "      <th>ZN</th>\n",
       "      <th>INDUS</th>\n",
       "      <th>CHAS</th>\n",
       "      <th>NOX</th>\n",
       "      <th>RM</th>\n",
       "      <th>AGE</th>\n",
       "      <th>DIS</th>\n",
       "      <th>RAD</th>\n",
       "      <th>TAX</th>\n",
       "      <th>PTRATIO</th>\n",
       "      <th>B</th>\n",
       "      <th>LSTAT</th>\n",
       "      <th>MEDV</th>\n",
       "    </tr>\n",
       "  </thead>\n",
       "  <tbody>\n",
       "    <tr>\n",
       "      <th>0</th>\n",
       "      <td>0.00632</td>\n",
       "      <td>18.0</td>\n",
       "      <td>2.31</td>\n",
       "      <td>0</td>\n",
       "      <td>0.538</td>\n",
       "      <td>6.575</td>\n",
       "      <td>65.2</td>\n",
       "      <td>4.0900</td>\n",
       "      <td>1</td>\n",
       "      <td>296.0</td>\n",
       "      <td>15.3</td>\n",
       "      <td>396.90</td>\n",
       "      <td>4.98</td>\n",
       "      <td>24.0</td>\n",
       "    </tr>\n",
       "    <tr>\n",
       "      <th>1</th>\n",
       "      <td>0.02731</td>\n",
       "      <td>0.0</td>\n",
       "      <td>7.07</td>\n",
       "      <td>0</td>\n",
       "      <td>0.469</td>\n",
       "      <td>6.421</td>\n",
       "      <td>78.9</td>\n",
       "      <td>4.9671</td>\n",
       "      <td>2</td>\n",
       "      <td>242.0</td>\n",
       "      <td>17.8</td>\n",
       "      <td>396.90</td>\n",
       "      <td>9.14</td>\n",
       "      <td>21.6</td>\n",
       "    </tr>\n",
       "    <tr>\n",
       "      <th>2</th>\n",
       "      <td>0.02729</td>\n",
       "      <td>0.0</td>\n",
       "      <td>7.07</td>\n",
       "      <td>0</td>\n",
       "      <td>0.469</td>\n",
       "      <td>7.185</td>\n",
       "      <td>61.1</td>\n",
       "      <td>4.9671</td>\n",
       "      <td>2</td>\n",
       "      <td>242.0</td>\n",
       "      <td>17.8</td>\n",
       "      <td>392.83</td>\n",
       "      <td>4.03</td>\n",
       "      <td>34.7</td>\n",
       "    </tr>\n",
       "    <tr>\n",
       "      <th>3</th>\n",
       "      <td>0.03237</td>\n",
       "      <td>0.0</td>\n",
       "      <td>2.18</td>\n",
       "      <td>0</td>\n",
       "      <td>0.458</td>\n",
       "      <td>6.998</td>\n",
       "      <td>45.8</td>\n",
       "      <td>6.0622</td>\n",
       "      <td>3</td>\n",
       "      <td>222.0</td>\n",
       "      <td>18.7</td>\n",
       "      <td>394.63</td>\n",
       "      <td>2.94</td>\n",
       "      <td>33.4</td>\n",
       "    </tr>\n",
       "    <tr>\n",
       "      <th>4</th>\n",
       "      <td>0.06905</td>\n",
       "      <td>0.0</td>\n",
       "      <td>2.18</td>\n",
       "      <td>0</td>\n",
       "      <td>0.458</td>\n",
       "      <td>7.147</td>\n",
       "      <td>54.2</td>\n",
       "      <td>6.0622</td>\n",
       "      <td>3</td>\n",
       "      <td>222.0</td>\n",
       "      <td>18.7</td>\n",
       "      <td>396.90</td>\n",
       "      <td>5.33</td>\n",
       "      <td>36.2</td>\n",
       "    </tr>\n",
       "  </tbody>\n",
       "</table>\n",
       "</div>"
      ],
      "text/plain": [
       "      CRIM    ZN  INDUS  CHAS    NOX     RM   AGE     DIS  RAD    TAX  \\\n",
       "0  0.00632  18.0   2.31     0  0.538  6.575  65.2  4.0900    1  296.0   \n",
       "1  0.02731   0.0   7.07     0  0.469  6.421  78.9  4.9671    2  242.0   \n",
       "2  0.02729   0.0   7.07     0  0.469  7.185  61.1  4.9671    2  242.0   \n",
       "3  0.03237   0.0   2.18     0  0.458  6.998  45.8  6.0622    3  222.0   \n",
       "4  0.06905   0.0   2.18     0  0.458  7.147  54.2  6.0622    3  222.0   \n",
       "\n",
       "   PTRATIO       B  LSTAT  MEDV  \n",
       "0     15.3  396.90   4.98  24.0  \n",
       "1     17.8  396.90   9.14  21.6  \n",
       "2     17.8  392.83   4.03  34.7  \n",
       "3     18.7  394.63   2.94  33.4  \n",
       "4     18.7  396.90   5.33  36.2  "
      ]
     },
     "execution_count": 29,
     "metadata": {},
     "output_type": "execute_result"
    }
   ],
   "source": [
    "# Read CSV\n",
    "names = [\"CRIM\", \"ZN\", \"INDUS\", \"CHAS\", \"NOX\", \"RM\", \"AGE\", \"DIS\", \"RAD\", \"TAX\", \"PTRATIO\", \"B\", \"LSTAT\", \"MEDV\"]\n",
    "data = pd.read_csv(\"housing.data\", header=None, names=names, delim_whitespace=True)\n",
    "data.head()"
   ]
  },
  {
   "cell_type": "code",
   "execution_count": 32,
   "metadata": {
    "colab": {},
    "colab_type": "code",
    "id": "LpVnkcT-VXE_"
   },
   "outputs": [
    {
     "data": {
      "text/plain": [
       "0      65.2\n",
       "1      78.9\n",
       "2      61.1\n",
       "3      45.8\n",
       "4      54.2\n",
       "       ... \n",
       "501    69.1\n",
       "502    76.7\n",
       "503    91.0\n",
       "504    89.3\n",
       "505    80.8\n",
       "Name: AGE, Length: 506, dtype: float64"
      ]
     },
     "execution_count": 32,
     "metadata": {},
     "output_type": "execute_result"
    }
   ],
   "source": [
    "# AGE\n",
    "data.AGE"
   ]
  },
  {
   "cell_type": "markdown",
   "metadata": {
    "colab_type": "text",
    "id": "j-5yQbxIVXFC"
   },
   "source": [
    "#### 1. Find the mean, standard deviation, and the standard error of the mean for variable `AGE`\n",
    "\n",
    "Hint: The standard error of the mean (SEM) can be expressed as:\n",
    "\n",
    "![](https://wikimedia.org/api/rest_v1/media/math/render/svg/f9dac77577c2717cbb973388e4d6563915705742)"
   ]
  },
  {
   "cell_type": "code",
   "execution_count": 58,
   "metadata": {
    "colab": {},
    "colab_type": "code",
    "id": "JUPWry0iVXFD"
   },
   "outputs": [
    {
     "name": "stdout",
     "output_type": "stream",
     "text": [
      "The mean is 68.57490118577078\n",
      "The standard deviation is 28.121032570236885\n",
      "The standard error of the mean is 1.2501323825680637\n"
     ]
    }
   ],
   "source": [
    "# ANSWER\n",
    "age_mean = np.mean(data.AGE)\n",
    "age_std = np.std(data.AGE)\n",
    "age_sem = age_std / math.sqrt(len(data.AGE))\n",
    "\n",
    "print(f\"The mean is {age_mean}\")\n",
    "print(f\"The standard deviation is {age_std}\")\n",
    "print(f\"The standard error of the mean is {age_sem}\")"
   ]
  },
  {
   "cell_type": "markdown",
   "metadata": {
    "colab_type": "text",
    "id": "YmT0j9cgVXFF"
   },
   "source": [
    "#### 2. Cenral Limit Theoram\n",
    "\n",
    "Recall that the central limit theorem dictates that the distribution of sample means (calculated across different random samples from our overall population) will be normally distributed.\n",
    "\n",
    "We will depend on the Central Limit Theorem again and again in order to do normal probability calculations when we use sample means to draw conclusions about a population mean. We now know that we can do this even if the population distribution is not normal.\n",
    "\n",
    "##### 2.A Find the sample mean, sample standard deviation, and the sample standard error of the mean for variable `AGE` Using CLT"
   ]
  },
  {
   "cell_type": "code",
   "execution_count": 54,
   "metadata": {
    "colab": {},
    "colab_type": "code",
    "id": "H_iwL5r9VXFG"
   },
   "outputs": [],
   "source": [
    "def calculate_sample_mean(df, column_name, N=10, sample_size=5):\n",
    "    '''\n",
    "    df: DataFrame\n",
    "    column_name: String, column_name\n",
    "    N: Number of samples\n",
    "    sample_size: Size of sample for each sample\n",
    "    '''\n",
    "    sample_mean_list = []\n",
    "\n",
    "    for i in range(N):\n",
    "        df_sample = df.sample(n=sample_size)\n",
    "        sample_mean = df_sample[column_name].mean()\n",
    "        sample_mean_list.append(sample_mean)\n",
    "    \n",
    "    return sample_mean_list"
   ]
  },
  {
   "cell_type": "code",
   "execution_count": 63,
   "metadata": {},
   "outputs": [
    {
     "name": "stdout",
     "output_type": "stream",
     "text": [
      "Mean: 68.713342\n",
      "Standard Deviation: 3.774932371716876\n",
      "Standard Error of the Mean: 0.11937384307726714\n",
      "Population Mean: 68.57490118577078\n"
     ]
    }
   ],
   "source": [
    "sample_mean_list = calculate_sample_mean(data, 'AGE', N=1000, sample_size=50)\n",
    "\n",
    "print(\"Mean:\", np.mean(sample_mean_list))\n",
    "print(\"Standard Deviation:\", np.std(sample_mean_list))\n",
    "print(\"Standard Error of the Mean:\", np.std(sample_mean_list) / math.sqrt(len(sample_mean_list)))\n",
    "print(f\"Population Mean: {np.mean(data.AGE)}\")"
   ]
  },
  {
   "cell_type": "code",
   "execution_count": 64,
   "metadata": {
    "colab": {},
    "colab_type": "code",
    "id": "mR4QWTZFVXFJ"
   },
   "outputs": [],
   "source": [
    "def visual_sample_mean(population_mean, sample_mean_list):\n",
    "    '''\n",
    "    population_mean: mean of entire population\n",
    "    sample_mean_list: list of sample mean\n",
    "    '''\n",
    "    \n",
    "    sample_mean = np.mean(sample_mean_list)\n",
    "    \n",
    "    ax = sns.distplot(sample_mean_list);\n",
    "    \n",
    "    # plot a vertical line for population mean and sample mean\n",
    "    ax.axvline(population_mean, color='black', linestyle='solid', lw=1)\n",
    "    ax.axvline(sample_mean, color='red', linestyle='dashed', lw=1)\n",
    "    \n",
    "    plt.xlabel('Mean of Samples')\n",
    "    plt.ylabel('Frequency')\n",
    "\n",
    "    plt.show()"
   ]
  },
  {
   "cell_type": "code",
   "execution_count": 68,
   "metadata": {
    "colab": {},
    "colab_type": "code",
    "id": "VGksRnV6VXFN"
   },
   "outputs": [],
   "source": [
    "# ANSWER\n"
   ]
  },
  {
   "cell_type": "markdown",
   "metadata": {
    "colab_type": "text",
    "id": "nxEKVhZVVXFQ"
   },
   "source": [
    "##### [BONUS] 2.B Visualize Distribution of Sample Mean "
   ]
  },
  {
   "cell_type": "code",
   "execution_count": 69,
   "metadata": {
    "colab": {},
    "colab_type": "code",
    "id": "iyvn_9siVXFS"
   },
   "outputs": [
    {
     "name": "stderr",
     "output_type": "stream",
     "text": [
      "C:\\Users\\Peter Le\\anaconda3\\envs\\Python 38\\lib\\site-packages\\seaborn\\distributions.py:2557: FutureWarning: `distplot` is a deprecated function and will be removed in a future version. Please adapt your code to use either `displot` (a figure-level function with similar flexibility) or `histplot` (an axes-level function for histograms).\n",
      "  warnings.warn(msg, FutureWarning)\n"
     ]
    },
    {
     "data": {
      "image/png": "[encoded data removed]",
      "text/plain": [
       "<Figure size 432x288 with 1 Axes>"
      ]
     },
     "metadata": {
      "needs_background": "light"
     },
     "output_type": "display_data"
    }
   ],
   "source": [
    "# ANSWER\n",
    "visual_sample_mean(np.mean(data.AGE), sample_mean_list)"
   ]
  },
  {
   "cell_type": "markdown",
   "metadata": {
    "colab_type": "text",
    "id": "wkvVYKkEVXFV"
   },
   "source": [
    "##### [BONUS] 2.C Visualize Distribution of Sample Mean and Population together"
   ]
  },
  {
   "cell_type": "code",
   "execution_count": 71,
   "metadata": {
    "colab": {},
    "colab_type": "code",
    "id": "iiq6sK5UVXFW"
   },
   "outputs": [
    {
     "data": {
      "image/png": "[encoded data removed]",
      "text/plain": [
       "<Figure size 1080x720 with 1 Axes>"
      ]
     },
     "metadata": {
      "needs_background": "light"
     },
     "output_type": "display_data"
    }
   ],
   "source": [
    "# ANSWER\n",
    "single = data.AGE\n",
    "\n",
    "mean_age = np.mean(data.AGE)\n",
    "\n",
    "fig, ax = plt.subplots(figsize=(15,10))\n",
    "ax = sns.distplot(single, bins=40, kde=False)\n",
    "sns.distplot(sample_mean_list, bins=40, kde=False, ax=ax)\n",
    "ax.axvline(mean_age, linewidth=2, ls='dashed', c='black')\n",
    "\n",
    "plt.show()"
   ]
  },
  {
   "cell_type": "markdown",
   "metadata": {
    "colab_type": "text",
    "id": "SV9cx_ojOR0V"
   },
   "source": [
    "#### Diabetics Data\n",
    "\n",
    "A medical doctor wants to reduce blood sugar level of all his patients by altering their diet. He finds that the mean sugar level of all patients is 180 with a standard deviation of 18. Nine of his patients start dieting and the mean of that sample is 175. The doctor specifies a 99% confidence interval.\n",
    "\n",
    "##### 4. What is the standard error of the mean? "
   ]
  },
  {
   "cell_type": "code",
   "execution_count": 72,
   "metadata": {
    "colab": {},
    "colab_type": "code",
    "id": "qgqQqeh8OR0W"
   },
   "outputs": [],
   "source": [
    "# ANSWER\n",
    "#H0: There is no difference from altering their diet - U = 180\n",
    "#Ha: There is difference from altering their diet - U =/180"
   ]
  },
  {
   "cell_type": "code",
   "execution_count": 73,
   "metadata": {},
   "outputs": [
    {
     "data": {
      "text/plain": [
       "-0.8333333333333334"
      ]
     },
     "execution_count": 73,
     "metadata": {},
     "output_type": "execute_result"
    }
   ],
   "source": [
    "(175-180) / (18 / np.sqrt(9))"
   ]
  },
  {
   "cell_type": "code",
   "execution_count": 74,
   "metadata": {},
   "outputs": [],
   "source": [
    "# looking at Z table\n",
    "p = 0.20327"
   ]
  },
  {
   "cell_type": "code",
   "execution_count": 75,
   "metadata": {},
   "outputs": [],
   "source": [
    "u = 180\n",
    "Xsdev = 1\n"
   ]
  },
  {
   "cell_type": "code",
   "execution_count": 76,
   "metadata": {},
   "outputs": [
    {
     "data": {
      "text/plain": [
       "6.0"
      ]
     },
     "execution_count": 76,
     "metadata": {},
     "output_type": "execute_result"
    }
   ],
   "source": [
    "\n",
    "n = 9\n",
    "Xsdev = 18\n",
    "Xsem = Xsdev / math.sqrt(n)\n",
    "Xsem"
   ]
  },
  {
   "cell_type": "markdown",
   "metadata": {
    "colab_type": "text",
    "id": "QT94PCGcOR0Y"
   },
   "source": [
    "##### 5. If all patients start dieting, what is the probability that their collective mean will be 175 or less?\n",
    "(Hint: When you have multiple samples and want to describe the standard deviation of those sample means (the standard error), you would use this z score formula:\n",
    "```\n",
    "z = (x – μ) / (σ / √n)\n",
    "```\n",
    "This z-score will tell you how many standard errors there are between the sample mean and the population mean.\n",
    "\n",
    "Treat 180 as the population mean, and use the `norm.cdf` function from `scipy.stats`.)"
   ]
  },
  {
   "cell_type": "code",
   "execution_count": 77,
   "metadata": {
    "colab": {},
    "colab_type": "code",
    "id": "JdHTcjjQOR0Y"
   },
   "outputs": [
    {
     "data": {
      "text/plain": [
       "0.20232838096364308"
      ]
     },
     "execution_count": 77,
     "metadata": {},
     "output_type": "execute_result"
    }
   ],
   "source": [
    "#ANSWER\n",
    "# z = (sample mean - population mean) / Xsem\n",
    "z = (175 - 180)/ Xsem\n",
    "p = stats.norm.cdf(z)\n",
    "p"
   ]
  },
  {
   "cell_type": "markdown",
   "metadata": {
    "colab_type": "text",
    "id": "uUxHoUNNOR0a"
   },
   "source": [
    "##### 6. Can the doctor conclude that dieting will reduce blood sugar by 5 points on average?"
   ]
  },
  {
   "cell_type": "code",
   "execution_count": 79,
   "metadata": {
    "colab": {},
    "colab_type": "code",
    "id": "h_vZ2ZNMOR0b"
   },
   "outputs": [
    {
     "name": "stdout",
     "output_type": "stream",
     "text": [
      "Dieting does not reduce blood sugar at a 99% confidence interval\n"
     ]
    }
   ],
   "source": [
    "#ANSWER\n",
    "if (1-p) >= 0.99:\n",
    "    print(\"Dieting reduces blood sugar at a 99% confidence interval\")\n",
    "else:\n",
    "    print(\"Dieting does not reduce blood sugar at a 99% confidence interval\")"
   ]
  },
  {
   "cell_type": "markdown",
   "metadata": {
    "colab_type": "text",
    "id": "anvtQw7BOR0d"
   },
   "source": [
    "##### 7. What should the doctor try next? Make some suitable assumptions and try to prove your idea with a calculation."
   ]
  },
  {
   "cell_type": "code",
   "execution_count": 80,
   "metadata": {
    "colab": {},
    "colab_type": "code",
    "id": "T_JSvX3wOR0d"
   },
   "outputs": [
    {
     "name": "stdout",
     "output_type": "stream",
     "text": [
      "0.0027366017862441435\n",
      "For a sample size of 100 patients, dieting reduces blood sugar at 99% confidence interval.\n"
     ]
    }
   ],
   "source": [
    "# ANSWER\n",
    "# increase the number of patients in the diet study!\n",
    "\n",
    "n = 100\n",
    "p = stats.norm.cdf((175 - 180) / (Xsdev / math.sqrt(n)))\n",
    "print(p)\n",
    "\n",
    "if (1 - p) >= 0.99:\n",
    "    print(f\"For a sample size of {n} patients, dieting reduces blood sugar at 99% confidence interval.\")\n",
    "else:\n",
    "    print(f\"For a sample size of {n} patients, dieting does not reduce blood sugar at a 99% confidence interval.\")"
   ]
  },
  {
   "cell_type": "markdown",
   "metadata": {
    "colab_type": "text",
    "id": "SiBFlmUUVXFm"
   },
   "source": [
    "References\n",
    "---\n",
    "\n",
    "[Z-Score: Definition, Formula and Calculation](https://www.statisticshowto.datasciencecentral.com/probability-and-statistics/z-score/)\n",
    "\n",
    "[Confidence Intervals](https://www.mathsisfun.com/data/confidence-interval.html)"
   ]
  },
  {
   "cell_type": "markdown",
   "metadata": {
    "colab_type": "text",
    "id": "Hj8GdoOXC-Lu"
   },
   "source": [
    "\n",
    "\n",
    "> \n",
    ">\n",
    ">\n",
    "\n",
    "\n"
   ]
  },
  {
   "cell_type": "markdown",
   "metadata": {
    "colab_type": "text",
    "id": "MlasiTKgDGdA"
   },
   "source": [
    "\n",
    "\n",
    "---\n",
    "\n",
    "\n",
    "\n",
    "---\n",
    "\n",
    "\n",
    "\n",
    "> > > > > > > > > © 2019 Institute of Data\n",
    "\n",
    "\n",
    "---\n",
    "\n",
    "\n",
    "\n",
    "---\n",
    "\n",
    "\n",
    "\n"
   ]
  }
 ],
 "metadata": {
  "colab": {
   "collapsed_sections": [],
   "name": "DSIA Lab 3.2.3.ipynb",
   "provenance": []
  },
  "kernelspec": {
   "display_name": "Python 3",
   "language": "python",
   "name": "python3"
  },
  "language_info": {
   "codemirror_mode": {
    "name": "ipython",
    "version": 3
   },
   "file_extension": ".py",
   "mimetype": "text/x-python",
   "name": "python",
   "nbconvert_exporter": "python",
   "pygments_lexer": "ipython3",
   "version": "3.8.5"
  }
 },
 "nbformat": 4,
 "nbformat_minor": 1
}
